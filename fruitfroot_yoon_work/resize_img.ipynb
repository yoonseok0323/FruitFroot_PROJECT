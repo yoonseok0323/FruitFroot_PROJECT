{
 "cells": [
  {
   "cell_type": "code",
   "execution_count": null,
   "id": "9f6d219d",
   "metadata": {
    "ExecuteTime": {
     "start_time": "2022-07-21T08:35:40.764Z"
    },
    "scrolled": false
   },
   "outputs": [
    {
     "name": "stdout",
     "output_type": "stream",
     "text": [
      "V006_80_1_01_01_01_23_1_1483y_20200928_70.jpg   0/2557\n",
      "V006_80_1_01_01_01_23_1_1483y_20200928_71.jpg   1/2557\n",
      "V006_80_1_01_01_01_23_1_1483y_20201005_75.jpg   2/2557\n",
      "V006_80_1_01_01_01_23_1_1483y_20201029_269.jpg   3/2557\n",
      "V006_80_1_01_01_01_23_1_1483y_20201030_277.jpg   4/2557\n",
      "V006_80_1_01_01_01_23_1_1483y_20201030_278.jpg   5/2557\n",
      "V006_80_1_01_01_01_23_1_1483y_20201102_279.jpg   6/2557\n",
      "V006_80_1_01_01_01_23_1_1483y_20201102_280.jpg   7/2557\n",
      "V006_80_1_01_01_01_23_1_1483y_20201102_281.jpg   8/2557\n",
      "V006_80_1_01_01_01_23_1_1483y_20201102_284.jpg   9/2557\n",
      "V006_80_1_01_01_01_23_1_3903y_20201007_79.jpg   10/2557\n",
      "V006_80_1_01_01_01_23_1_3903y_20201007_81.jpg   11/2557\n",
      "V006_80_1_01_01_01_23_1_3903y_20201015_118.jpg   12/2557\n",
      "V006_80_1_01_01_01_23_1_3903y_20201015_125.jpg   13/2557\n",
      "V006_80_1_01_01_01_23_1_3903y_20201015_128.jpg   14/2557\n",
      "V006_80_1_01_01_01_23_1_3903y_20201015_129.jpg   15/2557\n",
      "V006_80_1_01_01_01_23_1_3903y_20201029_268.jpg   16/2557\n",
      "V006_80_1_01_01_01_23_1_3903y_20201029_269.jpg   17/2557\n",
      "V006_80_1_01_01_01_23_1_3903y_20201102_281.jpg   18/2557\n",
      "V006_80_1_01_01_01_23_1_3903y_20201102_282.jpg   19/2557\n",
      "V006_80_1_01_01_01_23_1_5720y_20200917_12.jpg   20/2557\n",
      "V006_80_1_01_01_01_23_1_9181y_20201015_119.jpg   21/2557\n",
      "V006_80_1_01_01_01_23_1_9181y_20201015_124.jpg   22/2557\n",
      "V006_80_1_01_01_01_23_1_9181y_20201015_131.jpg   23/2557\n",
      "V006_80_1_01_01_01_23_1_9698b_20201013_105.jpg   24/2557\n",
      "V006_80_1_01_01_01_23_1_9698b_20201015_119.jpg   25/2557\n",
      "V006_80_1_01_01_01_23_1_9698b_20201015_125.jpg   26/2557\n",
      "V006_80_1_01_01_01_23_1_9698b_20201016_136.jpg   27/2557\n",
      "V006_80_1_01_01_01_23_1_9698b_20201016_139.jpg   28/2557\n",
      "V006_80_1_01_01_01_23_1_9698b_20201030_274.jpg   29/2557\n",
      "V006_80_1_01_01_01_23_1_9698b_20201102_281.jpg   30/2557\n",
      "V006_80_1_01_01_01_23_1_9698b_20201128_352.jpg   31/2557\n",
      "V006_80_1_01_01_01_23_2_1483y_20201030_274.jpg   32/2557\n",
      "V006_80_1_01_01_01_23_2_3903y_20200928_69.jpg   33/2557\n",
      "V006_80_1_01_01_01_23_2_3903y_20201015_117.jpg   34/2557\n",
      "V006_80_1_01_01_01_23_2_3903y_20201015_130.jpg   35/2557\n",
      "V006_80_1_01_01_01_23_2_3903y_20201015_131.jpg   36/2557\n",
      "V006_80_1_01_01_01_23_2_3903y_20201015_132.jpg   37/2557\n",
      "V006_80_1_01_01_01_23_2_3903y_20201015_133.jpg   38/2557\n",
      "V006_80_1_01_01_01_23_2_3903y_20201016_134.jpg   39/2557\n",
      "V006_80_1_01_01_01_23_2_3903y_20201030_276.jpg   40/2557\n",
      "V006_80_1_01_01_01_23_2_3903y_20201102_277.jpg   41/2557\n",
      "V006_80_1_01_01_01_23_2_3903y_20201102_278.jpg   42/2557\n"
     ]
    }
   ],
   "source": [
    "import os\n",
    "import numpy as np\n",
    "import cv2\n",
    "from PIL import Image\n",
    "\n",
    "original_path = './Training/[원천]배_1.질병/'\n",
    "resized_path = './Training/resized/'\n",
    "\n",
    "file_list = os.listdir(original_path)\n",
    "img_list = []\n",
    "\n",
    "for item in file_list :\n",
    "    img_list.append(item)\n",
    "\n",
    "total_image = len(img_list)\n",
    "index = 0\n",
    "total_image\n",
    "for name in img_list :\n",
    "\n",
    "    img = Image.open('%s%s'%(original_path, name))\n",
    "    img_array = np.array(img)\n",
    "    img_resize = cv2.resize(img_array, (224,224), interpolation = cv2.INTER_AREA)\n",
    "    img = Image.fromarray(img_resize)\n",
    "    img.save('%s%s'%(resized_path, name))\n",
    "\n",
    "    print(name + '   ' + str(index) + '/' + str(total_image))\n",
    "    index = index + 1"
   ]
  },
  {
   "cell_type": "code",
   "execution_count": null,
   "id": "b3297df6",
   "metadata": {},
   "outputs": [],
   "source": []
  }
 ],
 "metadata": {
  "kernelspec": {
   "display_name": "Python 3 (ipykernel)",
   "language": "python",
   "name": "python3"
  },
  "language_info": {
   "codemirror_mode": {
    "name": "ipython",
    "version": 3
   },
   "file_extension": ".py",
   "mimetype": "text/x-python",
   "name": "python",
   "nbconvert_exporter": "python",
   "pygments_lexer": "ipython3",
   "version": "3.8.13"
  },
  "toc": {
   "base_numbering": 1,
   "nav_menu": {},
   "number_sections": true,
   "sideBar": true,
   "skip_h1_title": false,
   "title_cell": "Table of Contents",
   "title_sidebar": "Contents",
   "toc_cell": false,
   "toc_position": {},
   "toc_section_display": true,
   "toc_window_display": false
  }
 },
 "nbformat": 4,
 "nbformat_minor": 5
}
